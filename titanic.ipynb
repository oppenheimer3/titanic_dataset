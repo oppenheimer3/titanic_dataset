{
 "cells": [
  {
   "cell_type": "code",
   "execution_count": 3,
   "id": "650beb64",
   "metadata": {
    "scrolled": true
   },
   "outputs": [
    {
     "data": {
      "text/plain": [
       "PassengerId      int64\n",
       "Survived         int64\n",
       "Pclass           int64\n",
       "Name            object\n",
       "Sex             object\n",
       "Age            float64\n",
       "SibSp            int64\n",
       "Parch            int64\n",
       "Ticket          object\n",
       "Fare           float64\n",
       "Cabin           object\n",
       "Embarked        object\n",
       "dtype: object"
      ]
     },
     "execution_count": 3,
     "metadata": {},
     "output_type": "execute_result"
    }
   ],
   "source": [
    "# Load libraries\n",
    "\n",
    "# compare algorithms\n",
    "import pandas as pd\n",
    "import numpy as np\n",
    "from pandas import read_csv\n",
    "from matplotlib import pyplot\n",
    "from sklearn.model_selection import train_test_split\n",
    "from sklearn.model_selection import cross_val_score\n",
    "from sklearn.model_selection import StratifiedKFold\n",
    "from sklearn.linear_model import LogisticRegression\n",
    "from sklearn.tree import DecisionTreeClassifier\n",
    "from sklearn.neighbors import KNeighborsClassifier\n",
    "from sklearn.discriminant_analysis import LinearDiscriminantAnalysis\n",
    "from sklearn.naive_bayes import GaussianNB\n",
    "from sklearn.svm import SVC\n",
    "from sklearn.metrics import accuracy_score\n",
    "# Spot Check Algorithms\n",
    "models = []\n",
    "models.append(('LR', LogisticRegression(solver='liblinear', multi_class='ovr')))\n",
    "models.append(('LDA', LinearDiscriminantAnalysis()))\n",
    "models.append(('KNN', KNeighborsClassifier()))\n",
    "models.append(('CART', DecisionTreeClassifier()))\n",
    "models.append(('NB', GaussianNB()))\n",
    "models.append(('SVM', SVC(gamma='auto')))\n",
    "df=read_csv('train.csv')\n",
    "dftest=read_csv('test.csv')\n",
    "df = df.replace(np.nan, 0)\n",
    "df=df.replace('male','0')\n",
    "df=df.replace('female','1')\n",
    "\n",
    "df['Embarked']=df['Embarked'].replace('S','1')\n",
    "df['Embarked']=df['Embarked'].replace('C','2')\n",
    "df['Embarked']=df['Embarked'].replace('Q','3')\n",
    "df=df.astype({'Sex':int,'Embarked':int})\n",
    "df=df.drop(columns=['Name','Cabin','Ticket'])\n",
    "\n",
    "dftest = dftest.replace(np.nan, 0)\n",
    "dftest=dftest.replace('male','0')\n",
    "dftest=dftest.replace('female','1')\n",
    "dftest['Embarked']=dftest['Embarked'].replace('S','1')\n",
    "dftest['Embarked']=dftest['Embarked'].replace('C','2')\n",
    "dftest['Embarked']=dftest['Embarked'].replace('Q','3')\n",
    "dftest=dftest.astype({'Sex':int,'Embarked':int})\n",
    "dftest=dftest.drop(columns=['Name','Cabin','Ticket'])\n",
    "\n",
    "x=df.drop(columns=['Survived'])\n",
    "y=df['Survived']\n",
    "# evaluate each model in turn\n",
    "results = []\n",
    "names = []\n",
    "for name, model in models:\n",
    "    kfold = StratifiedKFold(n_splits=10, random_state=1, shuffle=True)\n",
    "    cv_results = cross_val_score(model, x, y, cv=kfold, scoring='accuracy')\n",
    "    results.append(cv_results)\n",
    "    names.append(name)\n",
    "    print('%s: %f (%f)' % (name, cv_results.mean(), cv_results.std()))\n",
    "# Compare Algorithms\n",
    "pyplot.boxplot(results, labels=names)\n",
    "pyplot.title('Algorithm Comparison')\n",
    "pyplot.show()    \n",
    "\n",
    "\n",
    "# Make predictions on validation dataset\n",
    "model = LogisticRegression()\n",
    "model.fit(x, y)\n",
    "predictions = model.predict(dftest)\n",
    "pr=pd.DataFrame(dftest['PassengerId'],columns=['PassengerId'])\n",
    "pr['survived']=predictions\n",
    "pr.set_index('PassengerId', inplace=True)\n",
    "\n",
    "pr.to_csv('prediction_results.csv')\n"
   ]
  }
 ],
 "metadata": {
  "kernelspec": {
   "display_name": "Python 3 (ipykernel)",
   "language": "python",
   "name": "python3"
  },
  "language_info": {
   "codemirror_mode": {
    "name": "ipython",
    "version": 3
   },
   "file_extension": ".py",
   "mimetype": "text/x-python",
   "name": "python",
   "nbconvert_exporter": "python",
   "pygments_lexer": "ipython3",
   "version": "3.9.12"
  }
 },
 "nbformat": 4,
 "nbformat_minor": 5
}
